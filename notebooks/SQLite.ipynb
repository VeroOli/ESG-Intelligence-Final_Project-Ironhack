{
 "cells": [
  {
   "cell_type": "code",
   "execution_count": 1,
   "id": "95f17dcf-3d71-4583-ae5b-2fc889a98831",
   "metadata": {
    "scrolled": true
   },
   "outputs": [],
   "source": [
    "import pandas as pd\n",
    "import sqlite3\n",
    "merged_data=pd.read_csv('../data/merged_data.csv')\n",
    "enviromental=pd.read_csv('../data/enviromental.csv')\n",
    "social=pd.read_csv('../data/social.csv')\n",
    "governance=pd.read_csv('../data/governance.csv')\n",
    "ESG=pd.read_csv('../data/ESG_score.csv')\n",
    "historical_scope=pd.read_csv('../data/historical_scope.csv')\n",
    "historical_score=pd.read_csv('../data/historical_score.csv')\n",
    "esg_percentage=pd.read_csv('../data/esg_percentage.csv')\n",
    "\n",
    "\n",
    "merged_data = merged_data.rename(columns={'Mkt Cap': 'Mkt'})"
   ]
  },
  {
   "cell_type": "code",
   "execution_count": 3,
   "id": "c5c6539e-f199-40d0-a623-50bbfe44fe98",
   "metadata": {},
   "outputs": [],
   "source": [
    "conn = sqlite3.connect('mi_base_de_datos.db')\n",
    "\n",
    "def crear_tabla_y_cargar_datos(nombre_tabla, archivo_csv):\n",
    "    df = pd.read_csv(archivo_csv)\n",
    "    \n",
    "    df.to_sql(nombre_tabla, conn, if_exists='replace', index=False)\n",
    "\n",
    "\n",
    "tablas_archivos = {\n",
    "    'merged_data': '../data/merged_data.csv',\n",
    "    'environmental': '../data/enviromental.csv',\n",
    "    'social': '../data/social.csv',\n",
    "    'governance': '../data/governance.csv',\n",
    "    'ESG': '../data/ESG_score.csv',\n",
    "    'historical_scope': '../data/historical_scope.csv',\n",
    "    'historical_score':'../data/historical_score.csv',\n",
    "    'esg_percentage':'../data/esg_percentage.csv'\n",
    "\n",
    "}\n",
    "\n",
    "for nombre_tabla, archivo_csv in tablas_archivos.items():\n",
    "    crear_tabla_y_cargar_datos(nombre_tabla, archivo_csv)\n",
    "\n",
    "\n",
    "conn.close()"
   ]
  },
  {
   "cell_type": "code",
   "execution_count": null,
   "id": "47023d21-865b-4cd4-b0f0-8f92d0180d6f",
   "metadata": {},
   "outputs": [],
   "source": []
  },
  {
   "cell_type": "code",
   "execution_count": null,
   "id": "ee35b1f7-dc2d-4917-aa14-3e753ea49fe0",
   "metadata": {},
   "outputs": [],
   "source": []
  },
  {
   "cell_type": "code",
   "execution_count": null,
   "id": "42d652b5-33a5-46a1-ac25-0e815c9cc842",
   "metadata": {},
   "outputs": [],
   "source": []
  }
 ],
 "metadata": {
  "kernelspec": {
   "display_name": "Python 3 (ipykernel)",
   "language": "python",
   "name": "python3"
  },
  "language_info": {
   "codemirror_mode": {
    "name": "ipython",
    "version": 3
   },
   "file_extension": ".py",
   "mimetype": "text/x-python",
   "name": "python",
   "nbconvert_exporter": "python",
   "pygments_lexer": "ipython3",
   "version": "3.9.19"
  }
 },
 "nbformat": 4,
 "nbformat_minor": 5
}
